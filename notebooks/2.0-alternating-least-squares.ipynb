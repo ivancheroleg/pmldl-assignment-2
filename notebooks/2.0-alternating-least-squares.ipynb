{
 "cells": [
  {
   "cell_type": "markdown",
   "source": [
    "# Notebook 2. Alternating Least Squares\n",
    "\n",
    "Made by:\n",
    "- Ivan Chernakov\n",
    "- BS21-DS-02\n",
    "- i.chernakov@innopolis.university\n",
    "\n",
    "In this notebook we will use the Alternating Least Squares algorithm to make recommendations. This algorithm is based on the matrix factorization technique, which consists of decomposing the user-item matrix into two matrices, one for users and one for items.\n",
    "\n",
    "The overall approach was guied by this [tutorial](https://www.kaggle.com/code/pauloyuncha/recommendation-system-from-zero-to-hero-2?scriptVersionId=123152617)."
   ],
   "metadata": {
    "collapsed": false
   },
   "id": "803eca7bbb189063"
  },
  {
   "cell_type": "markdown",
   "source": [
    "imports"
   ],
   "metadata": {
    "collapsed": false
   },
   "id": "55a20d12815c4ea5"
  },
  {
   "cell_type": "code",
   "execution_count": null,
   "outputs": [],
   "source": [
    "# %%capture\n",
    "# !pip install implicit"
   ],
   "metadata": {
    "collapsed": false
   },
   "id": "ff258c559ff82b9e"
  },
  {
   "cell_type": "code",
   "execution_count": 3,
   "id": "initial_id",
   "metadata": {
    "collapsed": true,
    "ExecuteTime": {
     "end_time": "2023-12-03T09:49:27.835813400Z",
     "start_time": "2023-12-03T09:49:26.210802100Z"
    }
   },
   "outputs": [],
   "source": [
    "from utils import *\n",
    "\n",
    "from scipy.sparse import csr_matrix\n",
    "from implicit.als import AlternatingLeastSquares\n",
    "import pandas as pd"
   ]
  },
  {
   "cell_type": "code",
   "execution_count": 4,
   "outputs": [
    {
     "data": {
      "text/plain": "       user_id  item_id  rating  timestamp\n75721      877      381       4  882677345\n80184      815      602       3  878694269\n19864       94      431       4  891721716\n76699      416      875       2  876696938\n92991      500      182       2  883873556",
      "text/html": "<div>\n<style scoped>\n    .dataframe tbody tr th:only-of-type {\n        vertical-align: middle;\n    }\n\n    .dataframe tbody tr th {\n        vertical-align: top;\n    }\n\n    .dataframe thead th {\n        text-align: right;\n    }\n</style>\n<table border=\"1\" class=\"dataframe\">\n  <thead>\n    <tr style=\"text-align: right;\">\n      <th></th>\n      <th>user_id</th>\n      <th>item_id</th>\n      <th>rating</th>\n      <th>timestamp</th>\n    </tr>\n  </thead>\n  <tbody>\n    <tr>\n      <th>75721</th>\n      <td>877</td>\n      <td>381</td>\n      <td>4</td>\n      <td>882677345</td>\n    </tr>\n    <tr>\n      <th>80184</th>\n      <td>815</td>\n      <td>602</td>\n      <td>3</td>\n      <td>878694269</td>\n    </tr>\n    <tr>\n      <th>19864</th>\n      <td>94</td>\n      <td>431</td>\n      <td>4</td>\n      <td>891721716</td>\n    </tr>\n    <tr>\n      <th>76699</th>\n      <td>416</td>\n      <td>875</td>\n      <td>2</td>\n      <td>876696938</td>\n    </tr>\n    <tr>\n      <th>92991</th>\n      <td>500</td>\n      <td>182</td>\n      <td>2</td>\n      <td>883873556</td>\n    </tr>\n  </tbody>\n</table>\n</div>"
     },
     "metadata": {},
     "output_type": "display_data"
    },
    {
     "data": {
      "text/plain": "       user_id  item_id  rating  timestamp\n98877      907      143       5  880159982\n24044      371      210       4  880435313\n48435      218       42       4  877488546\n72179      829      170       4  881698933\n80645      733      277       1  879536523",
      "text/html": "<div>\n<style scoped>\n    .dataframe tbody tr th:only-of-type {\n        vertical-align: middle;\n    }\n\n    .dataframe tbody tr th {\n        vertical-align: top;\n    }\n\n    .dataframe thead th {\n        text-align: right;\n    }\n</style>\n<table border=\"1\" class=\"dataframe\">\n  <thead>\n    <tr style=\"text-align: right;\">\n      <th></th>\n      <th>user_id</th>\n      <th>item_id</th>\n      <th>rating</th>\n      <th>timestamp</th>\n    </tr>\n  </thead>\n  <tbody>\n    <tr>\n      <th>98877</th>\n      <td>907</td>\n      <td>143</td>\n      <td>5</td>\n      <td>880159982</td>\n    </tr>\n    <tr>\n      <th>24044</th>\n      <td>371</td>\n      <td>210</td>\n      <td>4</td>\n      <td>880435313</td>\n    </tr>\n    <tr>\n      <th>48435</th>\n      <td>218</td>\n      <td>42</td>\n      <td>4</td>\n      <td>877488546</td>\n    </tr>\n    <tr>\n      <th>72179</th>\n      <td>829</td>\n      <td>170</td>\n      <td>4</td>\n      <td>881698933</td>\n    </tr>\n    <tr>\n      <th>80645</th>\n      <td>733</td>\n      <td>277</td>\n      <td>1</td>\n      <td>879536523</td>\n    </tr>\n  </tbody>\n</table>\n</div>"
     },
     "metadata": {},
     "output_type": "display_data"
    }
   ],
   "source": [
    "data = load_movielens_ratings('u.data')\n",
    "\n",
    "def split_dataframe(data):\n",
    "    data = data.sample(frac=1, random_state=42)\n",
    "    n = int(len(data) * 0.8)\n",
    "    return data.iloc[:n], data.iloc[n:]\n",
    "\n",
    "ratings_base, ratings_test = split_dataframe(data)\n",
    "\n",
    "\n",
    "display(ratings_base.head())\n",
    "display(ratings_test.head())"
   ],
   "metadata": {
    "collapsed": false,
    "ExecuteTime": {
     "end_time": "2023-12-03T09:49:27.908355700Z",
     "start_time": "2023-12-03T09:49:27.835813400Z"
    }
   },
   "id": "fe509b0789b4faec"
  },
  {
   "cell_type": "code",
   "execution_count": 5,
   "outputs": [
    {
     "name": "stdout",
     "output_type": "stream",
     "text": [
      "(80000, 4)\n",
      "(20000, 4)\n"
     ]
    }
   ],
   "source": [
    "print(ratings_base.shape)\n",
    "print(ratings_test.shape)"
   ],
   "metadata": {
    "collapsed": false,
    "ExecuteTime": {
     "end_time": "2023-12-03T09:49:27.908867Z",
     "start_time": "2023-12-03T09:49:27.902898800Z"
    }
   },
   "id": "e6bd299fe09d118f"
  },
  {
   "cell_type": "markdown",
   "source": [
    "### Alternating Least Squares"
   ],
   "metadata": {
    "collapsed": false
   },
   "id": "380b2fee54d9f99d"
  },
  {
   "cell_type": "markdown",
   "source": [
    "Here to make matrix we need to get maximum values from data"
   ],
   "metadata": {
    "collapsed": false
   },
   "id": "1f3cc509144648ea"
  },
  {
   "cell_type": "code",
   "execution_count": 7,
   "outputs": [
    {
     "name": "stdout",
     "output_type": "stream",
     "text": [
      "1683\n"
     ]
    }
   ],
   "source": [
    "amount_users = ratings_base.user_id.values\n",
    "amount_movies = ratings_base.item_id.values\n",
    "\n",
    "max_shape = max(max(amount_users), max(amount_movies))+1\n",
    "print(max_shape)"
   ],
   "metadata": {
    "collapsed": false,
    "ExecuteTime": {
     "end_time": "2023-12-03T09:49:28.044033700Z",
     "start_time": "2023-12-03T09:49:27.913876300Z"
    }
   },
   "id": "a23cbef280ac9cf5"
  },
  {
   "cell_type": "code",
   "execution_count": 8,
   "outputs": [],
   "source": [
    "ratings_base_sparse_item = csr_matrix((ratings_base.rating, (ratings_base.item_id, ratings_base.user_id)), shape=(max_shape, max_shape))\n",
    "ratings_base_sparse_user = csr_matrix((ratings_base.rating, (ratings_base.user_id, ratings_base.item_id)), shape=(max_shape, max_shape))"
   ],
   "metadata": {
    "collapsed": false,
    "ExecuteTime": {
     "end_time": "2023-12-03T09:49:28.060034Z",
     "start_time": "2023-12-03T09:49:27.932342800Z"
    }
   },
   "id": "32f93bf94bb40438"
  },
  {
   "cell_type": "code",
   "execution_count": 9,
   "outputs": [
    {
     "name": "stderr",
     "output_type": "stream",
     "text": [
      "C:\\Users\\ivanc\\AppData\\Local\\Programs\\Python\\Python311\\Lib\\site-packages\\implicit\\cpu\\als.py:95: RuntimeWarning: OpenBLAS is configured to use 6 threads. It is highly recommended to disable its internal threadpool by setting the environment variable 'OPENBLAS_NUM_THREADS=1' or by calling 'threadpoolctl.threadpool_limits(1, \"blas\")'. Having OpenBLAS use a threadpool can lead to severe performance issues here.\n",
      "  check_blas_config()\n"
     ]
    },
    {
     "data": {
      "text/plain": "  0%|          | 0/40 [00:00<?, ?it/s]",
      "application/vnd.jupyter.widget-view+json": {
       "version_major": 2,
       "version_minor": 0,
       "model_id": "a256194a6bd64200a4cf79c44ea98cf2"
      }
     },
     "metadata": {},
     "output_type": "display_data"
    }
   ],
   "source": [
    "model = AlternatingLeastSquares(factors=10, regularization=0.4, iterations=40)\n",
    "\n",
    "data_conf = (ratings_base_sparse_item * 33).astype('double')\n",
    "model.fit(data_conf)"
   ],
   "metadata": {
    "collapsed": false,
    "ExecuteTime": {
     "end_time": "2023-12-03T09:49:30.059612900Z",
     "start_time": "2023-12-03T09:49:27.945503600Z"
    }
   },
   "id": "7c29ef412509be0a"
  },
  {
   "cell_type": "code",
   "execution_count": 70,
   "outputs": [],
   "source": [
    "# Evaluate\n",
    "results = []\n",
    "def evaluate_model(model, rating_test):\n",
    "    #Get Recommendations\n",
    "    list_rec = []\n",
    "    watched_movies = []\n",
    "    for user_id in rating_test['user_id'].unique():\n",
    "        \n",
    "        \n",
    "        recommended, score = model.recommend(\n",
    "            userid = user_id,\n",
    "            user_items=ratings_base_sparse_user,\n",
    "            N=250,\n",
    "            filter_already_liked_items=False\n",
    "        )\n",
    "\n",
    "        watched_movies.append(ratings_base[ratings_base['user_id'] == user_id]['item_id'].unique())\n",
    "        list_rec.append([user_id, recommended])\n",
    "        \n",
    "    candidates = pd.DataFrame(list_rec, columns=['user_id', 'recommendations'])\n",
    "\n",
    "    #Evaluate\n",
    "    candidates = candidates.merge(ratings_test, on='user_id', how='left')\n",
    "    candidates['hit'] = candidates.apply(lambda x: x.item_id in x.recommendations, axis=1)\n",
    "    \n",
    "\n",
    "\n",
    "    print('Hit Rate: ', candidates.hit.mean())\n",
    "    \n",
    "    return candidates.hit.mean()"
   ],
   "metadata": {
    "collapsed": false,
    "ExecuteTime": {
     "end_time": "2023-12-03T14:28:14.029827100Z",
     "start_time": "2023-12-03T14:28:14.021516300Z"
    }
   },
   "id": "64bb546c1485f63d"
  },
  {
   "cell_type": "code",
   "execution_count": 71,
   "outputs": [],
   "source": [
    "import pickle\n",
    "\n",
    "# change directory to save model\n",
    "os.chdir(os.path.join(os.getcwd(), '../models'))\n",
    "with open('ASL.pkl', 'wb') as f:\n",
    "    pickle.dump(model, f)"
   ],
   "metadata": {
    "collapsed": false,
    "ExecuteTime": {
     "end_time": "2023-12-03T14:28:15.619673900Z",
     "start_time": "2023-12-03T14:28:15.609318500Z"
    }
   },
   "id": "5fcc878640f5ee01"
  },
  {
   "cell_type": "code",
   "execution_count": 72,
   "outputs": [
    {
     "data": {
      "text/plain": "  0%|          | 0/40 [00:00<?, ?it/s]",
      "application/vnd.jupyter.widget-view+json": {
       "version_major": 2,
       "version_minor": 0,
       "model_id": "c89d7720d9064a23aed52fd440bef12b"
      }
     },
     "metadata": {},
     "output_type": "display_data"
    },
    {
     "name": "stdout",
     "output_type": "stream",
     "text": [
      "u1.test\n",
      "Hit Rate:  0.3505\n"
     ]
    },
    {
     "data": {
      "text/plain": "  0%|          | 0/40 [00:00<?, ?it/s]",
      "application/vnd.jupyter.widget-view+json": {
       "version_major": 2,
       "version_minor": 0,
       "model_id": "91dc31649145467d92ee90b96b7d9ab8"
      }
     },
     "metadata": {},
     "output_type": "display_data"
    },
    {
     "name": "stdout",
     "output_type": "stream",
     "text": [
      "u2.test\n",
      "Hit Rate:  0.28575\n"
     ]
    },
    {
     "data": {
      "text/plain": "  0%|          | 0/40 [00:00<?, ?it/s]",
      "application/vnd.jupyter.widget-view+json": {
       "version_major": 2,
       "version_minor": 0,
       "model_id": "1b06f63b6a0849f6896cb873126b8027"
      }
     },
     "metadata": {},
     "output_type": "display_data"
    },
    {
     "name": "stdout",
     "output_type": "stream",
     "text": [
      "u3.test\n",
      "Hit Rate:  0.251\n"
     ]
    },
    {
     "data": {
      "text/plain": "  0%|          | 0/40 [00:00<?, ?it/s]",
      "application/vnd.jupyter.widget-view+json": {
       "version_major": 2,
       "version_minor": 0,
       "model_id": "42912066b33b4add9dde90535f493ee0"
      }
     },
     "metadata": {},
     "output_type": "display_data"
    },
    {
     "name": "stdout",
     "output_type": "stream",
     "text": [
      "u4.test\n",
      "Hit Rate:  0.2255\n"
     ]
    },
    {
     "data": {
      "text/plain": "  0%|          | 0/40 [00:00<?, ?it/s]",
      "application/vnd.jupyter.widget-view+json": {
       "version_major": 2,
       "version_minor": 0,
       "model_id": "51e07ec29805415aa3a5d9791b16b6ac"
      }
     },
     "metadata": {},
     "output_type": "display_data"
    },
    {
     "name": "stdout",
     "output_type": "stream",
     "text": [
      "u5.test\n",
      "Hit Rate:  0.2145\n",
      "Mean Hit Rate:  0.26544999999999996\n"
     ]
    }
   ],
   "source": [
    "import numpy as np\n",
    "\n",
    "tests = ['u1.test', 'u2.test', 'u3.test', 'u4.test', 'u5.test']\n",
    "hits = []\n",
    "\n",
    "for test in tests:\n",
    "    data = load_movielens_ratings(test)\n",
    "    ratings_base, ratings_test = split_dataframe(data)\n",
    "    ratings_base_sparse_item = csr_matrix((ratings_base.rating, (ratings_base.item_id, ratings_base.user_id)), shape=(max_shape, max_shape))\n",
    "    ratings_base_sparse_user = csr_matrix((ratings_base.rating, (ratings_base.user_id, ratings_base.item_id)), shape=(max_shape, max_shape))\n",
    "    model = AlternatingLeastSquares(factors=10, regularization=0.4, iterations=40)\n",
    "    data_conf = (ratings_base_sparse_item * 40).astype('double')\n",
    "    model.fit(data_conf)\n",
    "    print(test)\n",
    "    hits.append(evaluate_model(model, ratings_test))\n",
    "\n",
    "    \n",
    "print('Mean Hit Rate: ', np.mean(hits))"
   ],
   "metadata": {
    "collapsed": false,
    "ExecuteTime": {
     "end_time": "2023-12-03T14:28:25.257674700Z",
     "start_time": "2023-12-03T14:28:17.137576400Z"
    }
   },
   "id": "840c3b87e21dad44"
  },
  {
   "cell_type": "markdown",
   "source": [],
   "metadata": {
    "collapsed": false
   },
   "id": "172378a8ee7c5227"
  },
  {
   "cell_type": "code",
   "execution_count": 73,
   "outputs": [
    {
     "data": {
      "text/plain": "<Figure size 640x480 with 1 Axes>",
      "image/png": "[encoded data removed]"
     },
     "metadata": {},
     "output_type": "display_data"
    }
   ],
   "source": [
    "# plot hits \n",
    "import matplotlib.pyplot as plt\n",
    "\n",
    "plt.plot(tests, hits)\n",
    "plt.xlabel('Test')\n",
    "plt.ylabel('Hit Rate')\n",
    "plt.show()"
   ],
   "metadata": {
    "collapsed": false,
    "ExecuteTime": {
     "end_time": "2023-12-03T14:28:25.349092Z",
     "start_time": "2023-12-03T14:28:25.275270200Z"
    }
   },
   "id": "684de82541cd6bd"
  }
 ],
 "metadata": {
  "kernelspec": {
   "display_name": "Python 3",
   "language": "python",
   "name": "python3"
  },
  "language_info": {
   "codemirror_mode": {
    "name": "ipython",
    "version": 2
   },
   "file_extension": ".py",
   "mimetype": "text/x-python",
   "name": "python",
   "nbconvert_exporter": "python",
   "pygments_lexer": "ipython2",
   "version": "2.7.6"
  }
 },
 "nbformat": 4,
 "nbformat_minor": 5
}
