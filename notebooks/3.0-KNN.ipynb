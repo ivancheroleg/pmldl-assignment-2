{
 "cells": [
  {
   "cell_type": "markdown",
   "source": [
    "# Notebook 3. KNN with TF-IDF\n",
    "Author:\n",
    "- Ivan Chernakov\n",
    "- BS21-DS-02\n",
    "- i.chernakov@innopolis.university"
   ],
   "metadata": {
    "collapsed": false
   },
   "id": "6c966364ffcee41e"
  },
  {
   "cell_type": "code",
   "execution_count": 93,
   "id": "initial_id",
   "metadata": {
    "collapsed": true,
    "ExecuteTime": {
     "end_time": "2023-12-03T13:05:52.002928100Z",
     "start_time": "2023-12-03T13:05:51.998393500Z"
    }
   },
   "outputs": [],
   "source": [
    "from utils import *\n",
    "from sklearn.feature_extraction.text import TfidfVectorizer\n",
    "from implicit.evaluation import csr_matrix\n",
    "from sklearn.neighbors import NearestNeighbors\n",
    "import numpy as np\n",
    "from matplotlib import pyplot as plt"
   ]
  },
  {
   "cell_type": "code",
   "execution_count": 2,
   "outputs": [
    {
     "name": "stdout",
     "output_type": "stream",
     "text": [
      "Base shape: (80000, 4), test shape: (20000, 4)\n"
     ]
    }
   ],
   "source": [
    "rating_base, rating_test = load_movielens_ratings('u3.base'), load_movielens_ratings('u3.test')\n",
    "print(f'Base shape: {rating_base.shape}, test shape: {rating_test.shape}')"
   ],
   "metadata": {
    "collapsed": false,
    "ExecuteTime": {
     "end_time": "2023-12-03T09:19:57.458743900Z",
     "start_time": "2023-12-03T09:19:57.385780600Z"
    }
   },
   "id": "8be3847836be7e2d"
  },
  {
   "cell_type": "code",
   "execution_count": 15,
   "outputs": [
    {
     "data": {
      "text/plain": "   movie_id        movie_title release_date  video_release_date  \\\n0         1   Toy Story (1995)  01-Jan-1995                 NaN   \n1         2   GoldenEye (1995)  01-Jan-1995                 NaN   \n2         3  Four Rooms (1995)  01-Jan-1995                 NaN   \n3         4  Get Shorty (1995)  01-Jan-1995                 NaN   \n4         5     Copycat (1995)  01-Jan-1995                 NaN   \n\n                                            IMDb_URL  unknown  Action  \\\n0  http://us.imdb.com/M/title-exact?Toy%20Story%2...        0       0   \n1  http://us.imdb.com/M/title-exact?GoldenEye%20(...        0       1   \n2  http://us.imdb.com/M/title-exact?Four%20Rooms%...        0       0   \n3  http://us.imdb.com/M/title-exact?Get%20Shorty%...        0       1   \n4  http://us.imdb.com/M/title-exact?Copycat%20(1995)        0       0   \n\n   Adventure  Animation  Children's  ...  Fantasy  Film-Noir  Horror  Musical  \\\n0          0          1           1  ...        0          0       0        0   \n1          1          0           0  ...        0          0       0        0   \n2          0          0           0  ...        0          0       0        0   \n3          0          0           0  ...        0          0       0        0   \n4          0          0           0  ...        0          0       0        0   \n\n   Mystery  Romance  Sci-Fi  Thriller  War  Western  \n0        0        0       0         0    0        0  \n1        0        0       0         1    0        0  \n2        0        0       0         1    0        0  \n3        0        0       0         0    0        0  \n4        0        0       0         1    0        0  \n\n[5 rows x 24 columns]",
      "text/html": "<div>\n<style scoped>\n    .dataframe tbody tr th:only-of-type {\n        vertical-align: middle;\n    }\n\n    .dataframe tbody tr th {\n        vertical-align: top;\n    }\n\n    .dataframe thead th {\n        text-align: right;\n    }\n</style>\n<table border=\"1\" class=\"dataframe\">\n  <thead>\n    <tr style=\"text-align: right;\">\n      <th></th>\n      <th>movie_id</th>\n      <th>movie_title</th>\n      <th>release_date</th>\n      <th>video_release_date</th>\n      <th>IMDb_URL</th>\n      <th>unknown</th>\n      <th>Action</th>\n      <th>Adventure</th>\n      <th>Animation</th>\n      <th>Children's</th>\n      <th>...</th>\n      <th>Fantasy</th>\n      <th>Film-Noir</th>\n      <th>Horror</th>\n      <th>Musical</th>\n      <th>Mystery</th>\n      <th>Romance</th>\n      <th>Sci-Fi</th>\n      <th>Thriller</th>\n      <th>War</th>\n      <th>Western</th>\n    </tr>\n  </thead>\n  <tbody>\n    <tr>\n      <th>0</th>\n      <td>1</td>\n      <td>Toy Story (1995)</td>\n      <td>01-Jan-1995</td>\n      <td>NaN</td>\n      <td>http://us.imdb.com/M/title-exact?Toy%20Story%2...</td>\n      <td>0</td>\n      <td>0</td>\n      <td>0</td>\n      <td>1</td>\n      <td>1</td>\n      <td>...</td>\n      <td>0</td>\n      <td>0</td>\n      <td>0</td>\n      <td>0</td>\n      <td>0</td>\n      <td>0</td>\n      <td>0</td>\n      <td>0</td>\n      <td>0</td>\n      <td>0</td>\n    </tr>\n    <tr>\n      <th>1</th>\n      <td>2</td>\n      <td>GoldenEye (1995)</td>\n      <td>01-Jan-1995</td>\n      <td>NaN</td>\n      <td>http://us.imdb.com/M/title-exact?GoldenEye%20(...</td>\n      <td>0</td>\n      <td>1</td>\n      <td>1</td>\n      <td>0</td>\n      <td>0</td>\n      <td>...</td>\n      <td>0</td>\n      <td>0</td>\n      <td>0</td>\n      <td>0</td>\n      <td>0</td>\n      <td>0</td>\n      <td>0</td>\n      <td>1</td>\n      <td>0</td>\n      <td>0</td>\n    </tr>\n    <tr>\n      <th>2</th>\n      <td>3</td>\n      <td>Four Rooms (1995)</td>\n      <td>01-Jan-1995</td>\n      <td>NaN</td>\n      <td>http://us.imdb.com/M/title-exact?Four%20Rooms%...</td>\n      <td>0</td>\n      <td>0</td>\n      <td>0</td>\n      <td>0</td>\n      <td>0</td>\n      <td>...</td>\n      <td>0</td>\n      <td>0</td>\n      <td>0</td>\n      <td>0</td>\n      <td>0</td>\n      <td>0</td>\n      <td>0</td>\n      <td>1</td>\n      <td>0</td>\n      <td>0</td>\n    </tr>\n    <tr>\n      <th>3</th>\n      <td>4</td>\n      <td>Get Shorty (1995)</td>\n      <td>01-Jan-1995</td>\n      <td>NaN</td>\n      <td>http://us.imdb.com/M/title-exact?Get%20Shorty%...</td>\n      <td>0</td>\n      <td>1</td>\n      <td>0</td>\n      <td>0</td>\n      <td>0</td>\n      <td>...</td>\n      <td>0</td>\n      <td>0</td>\n      <td>0</td>\n      <td>0</td>\n      <td>0</td>\n      <td>0</td>\n      <td>0</td>\n      <td>0</td>\n      <td>0</td>\n      <td>0</td>\n    </tr>\n    <tr>\n      <th>4</th>\n      <td>5</td>\n      <td>Copycat (1995)</td>\n      <td>01-Jan-1995</td>\n      <td>NaN</td>\n      <td>http://us.imdb.com/M/title-exact?Copycat%20(1995)</td>\n      <td>0</td>\n      <td>0</td>\n      <td>0</td>\n      <td>0</td>\n      <td>0</td>\n      <td>...</td>\n      <td>0</td>\n      <td>0</td>\n      <td>0</td>\n      <td>0</td>\n      <td>0</td>\n      <td>0</td>\n      <td>0</td>\n      <td>1</td>\n      <td>0</td>\n      <td>0</td>\n    </tr>\n  </tbody>\n</table>\n<p>5 rows × 24 columns</p>\n</div>"
     },
     "metadata": {},
     "output_type": "display_data"
    }
   ],
   "source": [
    "movies = load_movielens_item_info()\n",
    "display(movies.head())"
   ],
   "metadata": {
    "collapsed": false,
    "ExecuteTime": {
     "end_time": "2023-12-03T09:24:55.424211500Z",
     "start_time": "2023-12-03T09:24:55.381782100Z"
    }
   },
   "id": "36c24bc7fa4b8ba8"
  },
  {
   "cell_type": "code",
   "execution_count": 12,
   "outputs": [],
   "source": [
    "# load genres\n",
    "genres_path = os.path.join(DATASET_PATH_100K_MOVIELENS, \"u.genre\")\n",
    "genres = pd.read_csv(genres_path, sep='|', header=None, names=['genre', 'id'])\n",
    "genres_as_list = genres['genre'].tolist()"
   ],
   "metadata": {
    "collapsed": false,
    "ExecuteTime": {
     "end_time": "2023-12-03T09:24:14.623756900Z",
     "start_time": "2023-12-03T09:24:14.580108700Z"
    }
   },
   "id": "bdaf9322ac572950"
  },
  {
   "cell_type": "code",
   "execution_count": 16,
   "outputs": [
    {
     "data": {
      "text/plain": "   movie_id        movie_title release_date  video_release_date  \\\n0         1   Toy Story (1995)  01-Jan-1995                 NaN   \n1         2   GoldenEye (1995)  01-Jan-1995                 NaN   \n2         3  Four Rooms (1995)  01-Jan-1995                 NaN   \n3         4  Get Shorty (1995)  01-Jan-1995                 NaN   \n4         5     Copycat (1995)  01-Jan-1995                 NaN   \n\n                                            IMDb_URL  \\\n0  http://us.imdb.com/M/title-exact?Toy%20Story%2...   \n1  http://us.imdb.com/M/title-exact?GoldenEye%20(...   \n2  http://us.imdb.com/M/title-exact?Four%20Rooms%...   \n3  http://us.imdb.com/M/title-exact?Get%20Shorty%...   \n4  http://us.imdb.com/M/title-exact?Copycat%20(1995)   \n\n                            genres  \n0  [Animation, Children's, Comedy]  \n1    [Action, Adventure, Thriller]  \n2                       [Thriller]  \n3          [Action, Comedy, Drama]  \n4         [Crime, Drama, Thriller]  ",
      "text/html": "<div>\n<style scoped>\n    .dataframe tbody tr th:only-of-type {\n        vertical-align: middle;\n    }\n\n    .dataframe tbody tr th {\n        vertical-align: top;\n    }\n\n    .dataframe thead th {\n        text-align: right;\n    }\n</style>\n<table border=\"1\" class=\"dataframe\">\n  <thead>\n    <tr style=\"text-align: right;\">\n      <th></th>\n      <th>movie_id</th>\n      <th>movie_title</th>\n      <th>release_date</th>\n      <th>video_release_date</th>\n      <th>IMDb_URL</th>\n      <th>genres</th>\n    </tr>\n  </thead>\n  <tbody>\n    <tr>\n      <th>0</th>\n      <td>1</td>\n      <td>Toy Story (1995)</td>\n      <td>01-Jan-1995</td>\n      <td>NaN</td>\n      <td>http://us.imdb.com/M/title-exact?Toy%20Story%2...</td>\n      <td>[Animation, Children's, Comedy]</td>\n    </tr>\n    <tr>\n      <th>1</th>\n      <td>2</td>\n      <td>GoldenEye (1995)</td>\n      <td>01-Jan-1995</td>\n      <td>NaN</td>\n      <td>http://us.imdb.com/M/title-exact?GoldenEye%20(...</td>\n      <td>[Action, Adventure, Thriller]</td>\n    </tr>\n    <tr>\n      <th>2</th>\n      <td>3</td>\n      <td>Four Rooms (1995)</td>\n      <td>01-Jan-1995</td>\n      <td>NaN</td>\n      <td>http://us.imdb.com/M/title-exact?Four%20Rooms%...</td>\n      <td>[Thriller]</td>\n    </tr>\n    <tr>\n      <th>3</th>\n      <td>4</td>\n      <td>Get Shorty (1995)</td>\n      <td>01-Jan-1995</td>\n      <td>NaN</td>\n      <td>http://us.imdb.com/M/title-exact?Get%20Shorty%...</td>\n      <td>[Action, Comedy, Drama]</td>\n    </tr>\n    <tr>\n      <th>4</th>\n      <td>5</td>\n      <td>Copycat (1995)</td>\n      <td>01-Jan-1995</td>\n      <td>NaN</td>\n      <td>http://us.imdb.com/M/title-exact?Copycat%20(1995)</td>\n      <td>[Crime, Drama, Thriller]</td>\n    </tr>\n  </tbody>\n</table>\n</div>"
     },
     "metadata": {},
     "output_type": "display_data"
    }
   ],
   "source": [
    "# unite columns on genres in lists respectively\n",
    "movies['genres'] = movies.iloc[:, 5:].values.tolist()\n",
    "movies['genres'] = movies['genres'].apply(lambda x: [genres_as_list[i] for i, v in enumerate(x) if v == 1])\n",
    "movies.drop(movies.columns[5:24], axis=1, inplace=True)\n",
    "\n",
    "display(movies.head())"
   ],
   "metadata": {
    "collapsed": false,
    "ExecuteTime": {
     "end_time": "2023-12-03T09:24:57.298370100Z",
     "start_time": "2023-12-03T09:24:57.288035400Z"
    }
   },
   "id": "5cd3fb2e4471329"
  },
  {
   "cell_type": "code",
   "execution_count": 22,
   "outputs": [
    {
     "name": "stderr",
     "output_type": "stream",
     "text": [
      "C:\\Users\\ivanc\\AppData\\Local\\Programs\\Python\\Python311\\Lib\\site-packages\\sklearn\\feature_extraction\\text.py:525: UserWarning: The parameter 'token_pattern' will not be used since 'tokenizer' is not None'\n",
      "  warnings.warn(\n"
     ]
    }
   ],
   "source": [
    "tfidf = TfidfVectorizer(tokenizer=lambda x: x, lowercase=False)\n",
    "tfidf_genres = tfidf.fit_transform(movies['genres'])"
   ],
   "metadata": {
    "collapsed": false,
    "ExecuteTime": {
     "end_time": "2023-12-03T09:28:12.071034300Z",
     "start_time": "2023-12-03T09:28:12.036861700Z"
    }
   },
   "id": "9c9c1708fa3947fb"
  },
  {
   "cell_type": "code",
   "execution_count": 23,
   "outputs": [
    {
     "name": "stdout",
     "output_type": "stream",
     "text": [
      "Genres vocabulary size: (1682, 19)\n"
     ]
    }
   ],
   "source": [
    "print(f'Genres vocabulary size:', tfidf_genres.shape)"
   ],
   "metadata": {
    "collapsed": false,
    "ExecuteTime": {
     "end_time": "2023-12-03T09:28:14.126055100Z",
     "start_time": "2023-12-03T09:28:14.119656300Z"
    }
   },
   "id": "db689c26c6e5586"
  },
  {
   "cell_type": "code",
   "execution_count": 147,
   "outputs": [],
   "source": [
    "class KNNRecommender:\n",
    "    \"\"\"\n",
    "    Recommender based on KNN\n",
    "    \"\"\"\n",
    "    def __init__(self, n_neighbors=10):\n",
    "        self.n_neighbors = n_neighbors\n",
    "        self.model = NearestNeighbors(metric='cosine', n_neighbors=n_neighbors)\n",
    "        \n",
    "    def fit(self, X):\n",
    "        self.model.fit(X)\n",
    "\n",
    "    def _predict(self, tfidf, user_index):\n",
    "        \"\"\"\n",
    "        Predicts movies for user\n",
    "        :param tfidf: TF-IDF matrix\n",
    "        :param query_index: user index\n",
    "        :return: list of movie ids\n",
    "        \"\"\"\n",
    "        self.fit(csr_matrix(tfidf))\n",
    "\n",
    "        distances, idx = self.model.kneighbors(tfidf[user_index,:].reshape(1, -1))\n",
    "    \n",
    "        results = []\n",
    "        for i in range(0, len(distances.flatten())):\n",
    "            tmp_idx = idx.flatten()[i]\n",
    "            results.append(tmp_idx)\n",
    "    \n",
    "        return results\n",
    "\n",
    "    def evaluate(self, rating_test, tfidf):\n",
    "        \"\"\"\n",
    "        Evaluates recommender\n",
    "        :param rating_test: Test dataset\n",
    "        :param tfidf: TF-IDF matrix\n",
    "        :return: hit rate and RMSE\n",
    "        \"\"\"\n",
    "        hits = 0\n",
    "        watched_movies_list = []\n",
    "        predicted_movies_list = []\n",
    "        \n",
    "        # get predictions\n",
    "        for user_id in rating_test['user_id'].unique():\n",
    "            # get all movies that user watched\n",
    "            watched_movies = rating_test[rating_test['user_id'] == user_id]['item_id'].tolist()\n",
    "            watched_movies_list.append(watched_movies)\n",
    "            \n",
    "            predicted_movies = self._predict(tfidf, user_id)\n",
    "            predicted_movies_list.append(predicted_movies)\n",
    "    \n",
    "        # calculate hit rate\n",
    "        for i in range(len(watched_movies_list)):\n",
    "            watched_movies = watched_movies_list[i]\n",
    "            predicted_movies = predicted_movies_list[i]\n",
    "    \n",
    "            # check if any of predicted movies is in watched\n",
    "            for movie_id in predicted_movies:\n",
    "                if movie_id in watched_movies:\n",
    "                    hits += 1\n",
    "                    break\n",
    "    \n",
    "        hits = hits / rating_test['user_id'].nunique()\n",
    "    \n",
    "        # calculate MSE\n",
    "        mse = 0\n",
    "        for i in range(len(watched_movies_list)):\n",
    "            watched_movies = watched_movies_list[i]\n",
    "            predicted_movies = predicted_movies_list[i]\n",
    "    \n",
    "            # check if any of predicted movies is in watched\n",
    "            for movie_id in predicted_movies:\n",
    "                if movie_id in watched_movies:\n",
    "                    mse += (1 - predicted_movies.index(movie_id) / self.n_neighbors) ** 2\n",
    "                    break\n",
    "    \n",
    "        mse = mse / rating_test['user_id'].nunique()\n",
    "        rmse = np.sqrt(mse)\n",
    "    \n",
    "        return hits, rmse"
   ],
   "metadata": {
    "collapsed": false,
    "ExecuteTime": {
     "end_time": "2023-12-03T13:32:54.080263200Z",
     "start_time": "2023-12-03T13:32:54.064245900Z"
    }
   },
   "id": "d30fc0fa6973ea4d"
  },
  {
   "cell_type": "code",
   "execution_count": 148,
   "outputs": [
    {
     "name": "stdout",
     "output_type": "stream",
     "text": [
      "Hit rate: 0.3861920172599784, RMSE: 0.41945153483508985\n"
     ]
    }
   ],
   "source": [
    "knn = KNNRecommender(n_neighbors=50)\n",
    "hits, rmse = knn.evaluate(rating_test, tfidf_genres)\n",
    "print(f'Hit rate: {hits}, RMSE: {rmse}')"
   ],
   "metadata": {
    "collapsed": false,
    "ExecuteTime": {
     "end_time": "2023-12-03T13:32:55.710304700Z",
     "start_time": "2023-12-03T13:32:54.355100700Z"
    }
   },
   "id": "d7000fedcb0d9d65"
  },
  {
   "cell_type": "code",
   "execution_count": 155,
   "outputs": [
    {
     "name": "stdout",
     "output_type": "stream",
     "text": [
      "u1.test\n",
      "Hit rate: 0.5925925925925926, RMSE: 0.549783875143853\n",
      "u2.test\n",
      "Hit rate: 0.5007656967840735, RMSE: 0.4760216706560218\n",
      "u3.test\n",
      "Hit rate: 0.4004602991944764, RMSE: 0.41551720235694867\n",
      "u4.test\n",
      "Hit rate: 0.38136511375947996, RMSE: 0.41797219811433983\n",
      "u5.test\n",
      "Hit rate: 0.3861920172599784, RMSE: 0.41945153483508985\n"
     ]
    }
   ],
   "source": [
    "evaluaiton_results = []\n",
    "\n",
    "tests = ['u1.test', 'u2.test', 'u3.test', 'u4.test', 'u5.test']\n",
    "\n",
    "for test in tests:\n",
    "    rating_test = load_movielens_ratings(test)\n",
    "    hits, rmse = knn.evaluate(rating_test, tfidf_genres)\n",
    "    evaluaiton_results.append((hits, rmse))\n",
    "    print(test)\n",
    "    print(f'Hit rate: {hits}, RMSE: {rmse}')"
   ],
   "metadata": {
    "collapsed": false,
    "ExecuteTime": {
     "end_time": "2023-12-03T13:35:08.538118500Z",
     "start_time": "2023-12-03T13:35:02.612921300Z"
    }
   },
   "id": "878430d4923f9f21"
  },
  {
   "cell_type": "code",
   "execution_count": 151,
   "outputs": [
    {
     "data": {
      "text/plain": "<Figure size 1000x500 with 1 Axes>",
      "image/png": "[encoded data removed]"
     },
     "metadata": {},
     "output_type": "display_data"
    }
   ],
   "source": [
    "# plot results\n",
    "hits = [x[0] for x in evaluaiton_results]\n",
    "mse = [x[1] for x in evaluaiton_results]\n",
    "\n",
    "plt.figure(figsize=(10, 5))\n",
    "plt.plot(tests, hits, label='Hit rate')\n",
    "plt.plot(tests, mse, label='RMSE')\n",
    "plt.legend()\n",
    "plt.show()"
   ],
   "metadata": {
    "collapsed": false,
    "ExecuteTime": {
     "end_time": "2023-12-03T13:34:02.670070300Z",
     "start_time": "2023-12-03T13:34:02.574262100Z"
    }
   },
   "id": "cebb8560eba18640"
  }
 ],
 "metadata": {
  "kernelspec": {
   "display_name": "Python 3",
   "language": "python",
   "name": "python3"
  },
  "language_info": {
   "codemirror_mode": {
    "name": "ipython",
    "version": 2
   },
   "file_extension": ".py",
   "mimetype": "text/x-python",
   "name": "python",
   "nbconvert_exporter": "python",
   "pygments_lexer": "ipython2",
   "version": "2.7.6"
  }
 },
 "nbformat": 4,
 "nbformat_minor": 5
}
